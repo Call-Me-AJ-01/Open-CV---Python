{
 "cells": [
  {
   "cell_type": "code",
   "execution_count": 1,
   "metadata": {},
   "outputs": [],
   "source": [
    "import cv2"
   ]
  },
  {
   "cell_type": "markdown",
   "metadata": {},
   "source": [
    "### Drawing Shapes On The Image"
   ]
  },
  {
   "cell_type": "code",
   "execution_count": 2,
   "metadata": {},
   "outputs": [],
   "source": [
    "# Drawing a Rectange Outline\n",
    "frame=cv2.imread('Original Image.jfif',1)\n",
    "cv2.rectangle(frame,(0,0),(120,128),(0,0,255),5)\n",
    "# cv2.rectangle(image_name,(x1,y1),(x2,y2),(B,G,R),thickness)\n",
    "cv2.imshow('Outline',frame)\n",
    "\n",
    "# Drawing a Rectange with Fully Shaded\n",
    "frame=cv2.imread('Original Image.jfif',1)\n",
    "cv2.rectangle(frame,(0,0),(120,128),(0,0,255),-1)\n",
    "# cv2.rectangle(image_name,(x1,y1),(x2,y2),(B,G,R),thickness)\n",
    "cv2.imshow('Fully Shaded',frame)\n",
    "\n",
    "# Drawing a Circle Outline\n",
    "frame=cv2.imread('Original Image.jfif',1)\n",
    "cv2.circle(frame,(120,128),63,(0,0,255),5)\n",
    "# cv2.circle(image_name,(x1,y1),Radius,(B,G,R),thickness)\n",
    "cv2.imshow('Circle Outline',frame)\n",
    "\n",
    "# Drwaing a Circle with fully shaded\n",
    "frame=cv2.imread('Original Image.jfif',1)\n",
    "cv2.circle(frame,(120,128),63,(0,0,255),-1)\n",
    "# cv2.circle(image_name,(x1,y1),Radius,(B,G,R),thickness)\n",
    "cv2.imshow('Circle fully shaded',frame)\n",
    "\n",
    "cv2.waitKey(0)\n",
    "cv2.destroyAllWindows()"
   ]
  },
  {
   "cell_type": "markdown",
   "metadata": {},
   "source": [
    "### Writing text On Image"
   ]
  },
  {
   "cell_type": "code",
   "execution_count": 3,
   "metadata": {},
   "outputs": [],
   "source": [
    "frame=cv2.imread('Original Image.jfif',1)\n",
    "cv2.putText(frame,'Call_Me_AJ',(0,50),cv2.FONT_HERSHEY_COMPLEX,1,(255,0,0),1)\n",
    "cv2.imshow('Writing Text On Image',frame)\n",
    "cv2.waitKey(0)\n",
    "cv2.destroyAllWindows()"
   ]
  }
 ],
 "metadata": {
  "kernelspec": {
   "display_name": "Python 3",
   "language": "python",
   "name": "python3"
  },
  "language_info": {
   "codemirror_mode": {
    "name": "ipython",
    "version": 3
   },
   "file_extension": ".py",
   "mimetype": "text/x-python",
   "name": "python",
   "nbconvert_exporter": "python",
   "pygments_lexer": "ipython3",
   "version": "3.7.6"
  }
 },
 "nbformat": 4,
 "nbformat_minor": 4
}
