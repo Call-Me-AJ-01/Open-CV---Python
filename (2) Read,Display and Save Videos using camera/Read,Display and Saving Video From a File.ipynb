{
 "cells": [
  {
   "cell_type": "code",
   "execution_count": 1,
   "metadata": {},
   "outputs": [],
   "source": [
    "import cv2"
   ]
  },
  {
   "cell_type": "markdown",
   "metadata": {},
   "source": [
    "### Reading a video from a folder using cv2"
   ]
  },
  {
   "cell_type": "code",
   "execution_count": 2,
   "metadata": {},
   "outputs": [],
   "source": [
    "video=cv2.VideoCapture('F:/movies/Iron Man 1 HD.mp4')"
   ]
  },
  {
   "cell_type": "code",
   "execution_count": 3,
   "metadata": {},
   "outputs": [],
   "source": [
    "while True:\n",
    "    success,frame=video.read()\n",
    "    cv2.imshow('Iron Man 1',frame)\n",
    "    if cv2.waitKey(1)==ord('q'):\n",
    "        break\n",
    "video.release()\n",
    "cv2.destroyAllWindows()"
   ]
  },
  {
   "cell_type": "markdown",
   "metadata": {},
   "source": [
    "### Reading and Saving a Live Video Using Opencv"
   ]
  },
  {
   "cell_type": "code",
   "execution_count": 4,
   "metadata": {},
   "outputs": [],
   "source": [
    "import cv2\n",
    "video=cv2.VideoCapture(0)  \n",
    "height=int(video.get(cv2.CAP_PROP_FRAME_HEIGHT))\n",
    "width=int(video.get(cv2.CAP_PROP_FRAME_WIDTH))\n",
    "size = (width,height) \n",
    "fourcc=cv2.VideoWriter_fourcc(*'MJPG')\n",
    "#Note - The Size Of The Window Should Be Assigned to a variable Before Passing It To VideoWriter Argument\n",
    "#       In My Case i have saved it in a 'size' variable and passed it to a VideoWriter Argument\n",
    "result = cv2.VideoWriter('Sample_Video_Capture.avi',fourcc,20,size)# Object For Saving The Video\n",
    "    \n",
    "while(True): \n",
    "    ret, frame = video.read()\n",
    "    gray=cv2.cvtColor(frame,cv2.COLOR_BGR2GRAY)\n",
    "    #cv2.imshow('Grayscaled Image',gray) Converting colored image to grayscaled image\n",
    "    result.write(frame) # Saving Each Frame\n",
    "    cv2.imshow('Recording...', frame) \n",
    "    if cv2.waitKey(1) == ord('q'): \n",
    "        break\n",
    "video.release() \n",
    "result.release() \n",
    "cv2.destroyAllWindows() "
   ]
  },
  {
   "cell_type": "code",
   "execution_count": 5,
   "metadata": {},
   "outputs": [
    {
     "data": {
      "text/plain": [
       "False"
      ]
     },
     "execution_count": 5,
     "metadata": {},
     "output_type": "execute_result"
    }
   ],
   "source": [
    "# To Check Whether The Video Frame Is Opened Or Not\n",
    "video.isOpened()"
   ]
  }
 ],
 "metadata": {
  "kernelspec": {
   "display_name": "Python 3",
   "language": "python",
   "name": "python3"
  },
  "language_info": {
   "codemirror_mode": {
    "name": "ipython",
    "version": 3
   },
   "file_extension": ".py",
   "mimetype": "text/x-python",
   "name": "python",
   "nbconvert_exporter": "python",
   "pygments_lexer": "ipython3",
   "version": "3.8.5"
  }
 },
 "nbformat": 4,
 "nbformat_minor": 4
}
