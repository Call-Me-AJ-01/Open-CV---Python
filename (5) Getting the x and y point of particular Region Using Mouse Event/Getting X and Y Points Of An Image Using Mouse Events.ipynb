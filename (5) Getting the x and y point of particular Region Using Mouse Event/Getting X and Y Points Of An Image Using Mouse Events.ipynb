{
 "cells": [
  {
   "cell_type": "markdown",
   "metadata": {},
   "source": [
    "### Getting X and Y Point in a image\n",
    "### Note:- click on the image to see the points of x and y coordinates of the image (1st Image)"
   ]
  },
  {
   "cell_type": "code",
   "execution_count": null,
   "metadata": {},
   "outputs": [],
   "source": [
    "import cv2\n",
    "import numpy as np\n",
    "\n",
    "### Creating Function to Get The Mouse Events\n",
    "\n",
    "def click_event(event,x,y,flag,params):\n",
    "    if event==cv2.EVENT_LBUTTONDOWN:\n",
    "        #print(x,y)\n",
    "        cv2.putText(img,'x_point : '+str(x)+', y_point :'+str(y),(x,y),cv2.FONT_HERSHEY_COMPLEX,.5,(0,0,255),2)\n",
    "        cv2.imshow('Getting Points',img)\n",
    "\n",
    "img=cv2.imread('Original Image.jfif',1)\n",
    "cv2.imshow('Getting Points',img)\n",
    "\n",
    "### Calling The Function\n",
    "cv2.setMouseCallback('Getting Points',click_event)\n",
    "\n",
    "cv2.waitKey(0)\n",
    "cv2.destroyAllWindows()"
   ]
  },
  {
   "cell_type": "markdown",
   "metadata": {},
   "source": [
    "### Drawing a Line On The Image By Clicking\n",
    "### Note:- Click on the image two times on different of x and y coordinates to draw line between the 2 coordinates (2nd Image)"
   ]
  },
  {
   "cell_type": "code",
   "execution_count": 2,
   "metadata": {},
   "outputs": [],
   "source": [
    "import cv2\n",
    "import numpy as np\n",
    "\n",
    "c=0\n",
    "### Creating Function to Get The Mouse Events\n",
    "\n",
    "def click_event(event,x,y,flag,params):\n",
    "    if event==cv2.EVENT_LBUTTONDOWN:\n",
    "        global c,d_x,d_y\n",
    "        #print(x,y)\n",
    "        # Assigning The First x and y Coordinates to d_x and d_y\n",
    "        if c==0:\n",
    "            d_x=x\n",
    "            d_y=y\n",
    "            c+=1\n",
    "            #print(d_x,d_y)\n",
    "        else:\n",
    "            #print(d_x,d_y,x,y)\n",
    "            # 'd_x' and 'd_y' contains a previous x and y coordinates where as 'x' and 'y' contains the present x and y coordinates \n",
    "            cv2.line(img,(d_x,d_y),(x,y),(0,0,255),3)\n",
    "            d_x=x\n",
    "            d_y=y\n",
    "        cv2.imshow('Drawing Points',img)\n",
    "\n",
    "img=np.zeros((512,512,3),np.uint8)\n",
    "cv2.imshow('Drawing Points',img)\n",
    "\n",
    "### Calling The Function\n",
    "cv2.setMouseCallback('Drawing Points',click_event)\n",
    "\n",
    "cv2.waitKey(0)\n",
    "cv2.destroyAllWindows()"
   ]
  }
 ],
 "metadata": {
  "kernelspec": {
   "display_name": "Python 3",
   "language": "python",
   "name": "python3"
  },
  "language_info": {
   "codemirror_mode": {
    "name": "ipython",
    "version": 3
   },
   "file_extension": ".py",
   "mimetype": "text/x-python",
   "name": "python",
   "nbconvert_exporter": "python",
   "pygments_lexer": "ipython3",
   "version": "3.7.7"
  }
 },
 "nbformat": 4,
 "nbformat_minor": 4
}
