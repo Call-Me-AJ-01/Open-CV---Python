{
 "cells": [
  {
   "cell_type": "code",
   "execution_count": 1,
   "metadata": {},
   "outputs": [],
   "source": [
    "import numpy as np\n",
    "import cv2"
   ]
  },
  {
   "cell_type": "markdown",
   "metadata": {},
   "source": [
    "### Before Resizing The Image"
   ]
  },
  {
   "cell_type": "code",
   "execution_count": 2,
   "metadata": {},
   "outputs": [],
   "source": [
    "img=cv2.imread('Original_Image_Messi.jpg',1)\n",
    "cv2.imshow('Messi Image',img)\n",
    "cv2.waitKey(0)\n",
    "cv2.destroyAllWindows()"
   ]
  },
  {
   "cell_type": "markdown",
   "metadata": {},
   "source": [
    "### After Resizing The Image"
   ]
  },
  {
   "cell_type": "code",
   "execution_count": 3,
   "metadata": {},
   "outputs": [],
   "source": [
    "#Reading The original Image\n",
    "img=cv2.imread('Original_Image_Messi.jpg',1)\n",
    "\n",
    "#Resizing The Image\n",
    "img=cv2.resize(img,(1024,512))\n",
    "\n",
    "#Saving The resized image\n",
    "cv2.imwrite('Resized_image_Messi.jpg',img)\n",
    "\n",
    "#Displaying The Resized Image\n",
    "cv2.imshow('Resized Messi Image.jpg',img)\n",
    "\n",
    "cv2.waitKey(0)\n",
    "cv2.destroyAllWindows()"
   ]
  },
  {
   "cell_type": "markdown",
   "metadata": {},
   "source": [
    "### Getting The X and Y Coordinates Of The Ball"
   ]
  },
  {
   "cell_type": "code",
   "execution_count": 4,
   "metadata": {},
   "outputs": [
    {
     "name": "stdout",
     "output_type": "stream",
     "text": [
      "The Upper Left Hand Side Coordinate of X_1 and Y_1 of the ball are : 627 435\n",
      "The Lower Right Hand Side Coordinate of X_2 and Y_2 of the ball are : 739 503\n"
     ]
    }
   ],
   "source": [
    "# Reading The Image\n",
    "img=cv2.imread('Resized_image_Messi.jpg',1)\n",
    "\n",
    "#Displaying The Image\n",
    "cv2.imshow('Getting X and Y Co-ordinates of Cropped Image',img)\n",
    "\n",
    "# Getting The X and Y Coordinates Using Mouse Events\n",
    "c=0\n",
    "def mouse_event(event,x,y,flag,params):\n",
    "    global c,x1,x2,y1,y2\n",
    "    if event==cv2.EVENT_LBUTTONDOWN:\n",
    "        if c==0:\n",
    "            x1=x\n",
    "            y1=y\n",
    "            c+=1\n",
    "        else:\n",
    "            x2=x\n",
    "            y2=y\n",
    "cv2.setMouseCallback('Getting X and Y Co-ordinates of Cropped Image',mouse_event)\n",
    "cv2.waitKey(0)\n",
    "cv2.destroyAllWindows()\n",
    "p_x1,p_y1,p_x2,p_y2=x1,y1,x2,y2\n",
    "print('The Upper Left Hand Side Coordinate of X_1 and Y_1 of the ball are :',x1,y1)\n",
    "print('The Lower Right Hand Side Coordinate of X_2 and Y_2 of the ball are :',x2,y2)"
   ]
  },
  {
   "cell_type": "markdown",
   "metadata": {},
   "source": [
    "### Cropping The Ball From The Image"
   ]
  },
  {
   "cell_type": "code",
   "execution_count": 5,
   "metadata": {},
   "outputs": [],
   "source": [
    "# Reading The Image\n",
    "img=cv2.imread('Resized_image_Messi.jpg',1)\n",
    "\n",
    "#Cropping The Ball Image\n",
    "ball=img[y1:y2,x1:x2] # img[y1:y2,x1:x2]\n",
    "\n",
    "#Displaying The Cropped Image\n",
    "cv2.imshow('Ball Image',ball)\n",
    "\n",
    "#Resizing The Cropped Image For Better Understanding\n",
    "ball_resize=cv2.resize(ball,(512,512))\n",
    "\n",
    "#Displaying The Resized Image Of The Ball\n",
    "cv2.imshow('Resized Image Of The Ball',ball_resize)\n",
    "\n",
    "cv2.waitKey(0)\n",
    "cv2.destroyAllWindows()"
   ]
  },
  {
   "cell_type": "markdown",
   "metadata": {},
   "source": [
    "### Placing The Cropped Image On The Current Image"
   ]
  },
  {
   "cell_type": "code",
   "execution_count": 6,
   "metadata": {},
   "outputs": [
    {
     "name": "stdout",
     "output_type": "stream",
     "text": [
      "The Upper Left Hand Side Random Coordinate of X_1 and Y_1 of the ball are : 5 472\n",
      "The Lower Right Hand Side Random Coordinate of X_2 and Y_2 of the ball are : 739 503\n"
     ]
    }
   ],
   "source": [
    "# Reading The Image\n",
    "img=cv2.imread('Resized_image_Messi.jpg',1)\n",
    "\n",
    "#Displaying The Image\n",
    "cv2.imshow('Getting Random X and Y Co-ordinates',img)\n",
    "\n",
    "# Getting The X and Y Coordinates Using Mouse Events\n",
    "c=0\n",
    "def mouse_event(event,x,y,flag,params):\n",
    "    global c,x1,x2,y1,y2\n",
    "    if event==cv2.EVENT_LBUTTONDOWN:\n",
    "        if c==0:\n",
    "            x1=x\n",
    "            y1=y\n",
    "            c+=1\n",
    "        else:\n",
    "            x2=x\n",
    "            y2=y\n",
    "cv2.setMouseCallback('Getting Random X and Y Co-ordinates',mouse_event)\n",
    "cv2.waitKey(0)\n",
    "cv2.destroyAllWindows()\n",
    "print('The Upper Left Hand Side Random Coordinate of X_1 and Y_1 of the ball are :',x1,y1)\n",
    "print('The Lower Right Hand Side Random Coordinate of X_2 and Y_2 of the ball are :',x2,y2)"
   ]
  },
  {
   "cell_type": "code",
   "execution_count": 7,
   "metadata": {},
   "outputs": [
    {
     "name": "stdout",
     "output_type": "stream",
     "text": [
      "(40, 112, 3)\n",
      "(68, 112, 3)\n",
      "(40, 112, 3)\n"
     ]
    }
   ],
   "source": [
    "#Reading The Image\n",
    "img=cv2.imread('Resized_image_Messi.jpg',1)\n",
    "\n",
    "#Finding The Shape Of Random Coordinates\n",
    "print(img[y1:y1+abs(p_y1-p_y2),x1:x1+abs(p_x1-p_x2)].shape)\n",
    "columns,rows,channel=img[y1:y1+abs(p_y1-p_y2),x1:x1+abs(p_x1-p_x2)].shape\n",
    "\n",
    "#Before Rsizing The ball Image Based On The Random Coordinates\n",
    "print(ball.shape)\n",
    "\n",
    "#Resizing The Ball Based On The Random Coordinates\n",
    "ball=cv2.resize(ball,(rows,columns))\n",
    "print(ball.shape)\n",
    "\n",
    "#Placing The Ball On the Random Coordinates\n",
    "img[y1:y1+abs(p_y1-p_y2),x1:x1+abs(p_x1-p_x2)]=ball\n",
    "\n",
    "#Displaying The Image After Placing The Cropped Image\n",
    "cv2.imshow('After Placing The Cropped Image',img)\n",
    "\n",
    "cv2.waitKey(0)\n",
    "cv2.destroyAllWindows()"
   ]
  },
  {
   "cell_type": "code",
   "execution_count": null,
   "metadata": {},
   "outputs": [],
   "source": []
  }
 ],
 "metadata": {
  "kernelspec": {
   "display_name": "Python 3",
   "language": "python",
   "name": "python3"
  },
  "language_info": {
   "codemirror_mode": {
    "name": "ipython",
    "version": 3
   },
   "file_extension": ".py",
   "mimetype": "text/x-python",
   "name": "python",
   "nbconvert_exporter": "python",
   "pygments_lexer": "ipython3",
   "version": "3.7.7"
  }
 },
 "nbformat": 4,
 "nbformat_minor": 4
}
