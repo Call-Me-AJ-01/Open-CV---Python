{
 "cells": [
  {
   "cell_type": "markdown",
   "metadata": {},
   "source": [
    "### Package Used For Computer Vision is OpenCV - Open Source Computer Vision"
   ]
  },
  {
   "cell_type": "code",
   "execution_count": 1,
   "metadata": {},
   "outputs": [],
   "source": [
    "import cv2"
   ]
  },
  {
   "cell_type": "markdown",
   "metadata": {},
   "source": [
    "### Checking The Version Of cv2"
   ]
  },
  {
   "cell_type": "code",
   "execution_count": 2,
   "metadata": {},
   "outputs": [
    {
     "data": {
      "text/plain": [
       "'4.3.0'"
      ]
     },
     "execution_count": 2,
     "metadata": {},
     "output_type": "execute_result"
    }
   ],
   "source": [
    "cv2.__version__"
   ]
  },
  {
   "cell_type": "markdown",
   "metadata": {},
   "source": [
    "### Reading Image Using OpenCV"
   ]
  },
  {
   "cell_type": "code",
   "execution_count": 3,
   "metadata": {},
   "outputs": [
    {
     "name": "stdout",
     "output_type": "stream",
     "text": [
      "[[139 138 135 ...  96  94  97]\n",
      " [138 137 135 ...  97  95  97]\n",
      " [136 135 133 ... 100  98  96]\n",
      " ...\n",
      " [113 122 132 ...  47  52  50]\n",
      " [113 122 132 ...  47  54  51]\n",
      " [109 118 129 ...  46  48  50]]\n"
     ]
    }
   ],
   "source": [
    "img=cv2.imread('Original Image.jfif',0)\n",
    "print(img)\n",
    "\n",
    "# Syntax\n",
    "# cv2.imread('image name,color format')\n",
    "\n",
    "# Different Kinds Of color formats Available\n",
    "#  1 - Loads a Colored Image\n",
    "#  0 - Loads a Grayscale Image\n",
    "# -1 - Loads a image as such including the alpha value\n",
    "\n",
    "# Alpha Values\n",
    "''' It Ranges From 0.0 - 1.0\n",
    "    0.0 - fully transparent (has no content and hence the image can be trasparent based on the background image)\n",
    "    1.0 - opaque (has content on the particular pixel hence not transparented)\n",
    "    Note:- Most widely used on movies'''\n",
    "\n",
    "# Important Note:-\n",
    "'''Colored Images will be in 3-D format (RGB)\n",
    "   Grayscaled image will be in 2-D format (Black and White)'''\n",
    "\n",
    "# If the Color Format is not Given By Default It Take '1' (Colored Format)"
   ]
  },
  {
   "cell_type": "markdown",
   "metadata": {},
   "source": [
    "### Displaying The Image Using OpenCV "
   ]
  },
  {
   "cell_type": "code",
   "execution_count": 4,
   "metadata": {},
   "outputs": [],
   "source": [
    "cv2.imshow('AJ',img)\n",
    "\n",
    "#Syntax\n",
    "# cv2.imshow('Window Box Name,image read using openCV')\n",
    "\n",
    "cv2.waitKey(0)\n",
    "\n",
    "#Syntax for waitKey()\n",
    "# cv2.waitkey(5000) - will show the image for 5 seconds\n",
    "# cv2.waitKey(0) - will show the image untill manually closing the window\n",
    "\n",
    "cv2.destroyAllWindows()"
   ]
  },
  {
   "cell_type": "markdown",
   "metadata": {},
   "source": [
    "### Saving The Image Using OpenCV"
   ]
  },
  {
   "cell_type": "code",
   "execution_count": 5,
   "metadata": {},
   "outputs": [
    {
     "data": {
      "text/plain": [
       "True"
      ]
     },
     "execution_count": 5,
     "metadata": {},
     "output_type": "execute_result"
    }
   ],
   "source": [
    "cv2.imwrite('Saved Image By Opencv.png',img)"
   ]
  }
 ],
 "metadata": {
  "kernelspec": {
   "display_name": "Python 3",
   "language": "python",
   "name": "python3"
  },
  "language_info": {
   "codemirror_mode": {
    "name": "ipython",
    "version": 3
   },
   "file_extension": ".py",
   "mimetype": "text/x-python",
   "name": "python",
   "nbconvert_exporter": "python",
   "pygments_lexer": "ipython3",
   "version": "3.7.7"
  }
 },
 "nbformat": 4,
 "nbformat_minor": 4
}
