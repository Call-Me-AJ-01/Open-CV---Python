{
 "cells": [
  {
   "cell_type": "code",
   "execution_count": 2,
   "metadata": {},
   "outputs": [],
   "source": [
    "import cv2"
   ]
  },
  {
   "cell_type": "markdown",
   "metadata": {},
   "source": [
    "### Reading The Image"
   ]
  },
  {
   "cell_type": "code",
   "execution_count": 3,
   "metadata": {},
   "outputs": [],
   "source": [
    "img=cv2.imread('Testing Image For Threshold.png',1)"
   ]
  },
  {
   "cell_type": "markdown",
   "metadata": {},
   "source": [
    "### Converting The Image with Threshold Type"
   ]
  },
  {
   "cell_type": "code",
   "execution_count": 4,
   "metadata": {},
   "outputs": [],
   "source": [
    "# Type-1\n",
    "success,Thres_Img_1=cv2.threshold(img,127,255,cv2.THRESH_BINARY)\n",
    "\n",
    "#Type-2\n",
    "success,Thres_Img_2=cv2.threshold(img,127,255,cv2.THRESH_BINARY_INV)\n",
    "\n",
    "#Type-3\n",
    "success,Thres_Img_3=cv2.threshold(img,127,255,cv2.THRESH_TOZERO)\n",
    "\n",
    "#Type-4\n",
    "success,Thres_Img_4=cv2.threshold(img,127,255,cv2.THRESH_TOZERO_INV)\n",
    "\n",
    "#Type-5\n",
    "success,Thres_Img_5=cv2.threshold(img,127,255,cv2.THRESH_TRUNC)"
   ]
  },
  {
   "cell_type": "markdown",
   "metadata": {},
   "source": [
    "### Displaying The Original Image and The Thresholded Image"
   ]
  },
  {
   "cell_type": "code",
   "execution_count": null,
   "metadata": {},
   "outputs": [],
   "source": [
    "cv2.imshow('Original Image',img)\n",
    "cv2.imshow('Thresholded Image (THRESH_BINARY)',Thres_Img_1)\n",
    "cv2.imshow('Thresholded Image (THRESH_BINARY_INV)',Thres_Img_2)\n",
    "cv2.imshow('Thresholded Image (THRESH_TOZERO)',Thres_Img_3)\n",
    "cv2.imshow('Thresholded Image (THRESH_TOZERO_INV)',Thres_Img_4)\n",
    "cv2.imshow('Thresholded Image (THRESH_TRUNC)',Thres_Img_5)\n",
    "cv2.waitKey(0)\n",
    "cv2.destroyAllWindows()"
   ]
  },
  {
   "cell_type": "code",
   "execution_count": null,
   "metadata": {},
   "outputs": [],
   "source": []
  }
 ],
 "metadata": {
  "kernelspec": {
   "display_name": "Python 3",
   "language": "python",
   "name": "python3"
  },
  "language_info": {
   "codemirror_mode": {
    "name": "ipython",
    "version": 3
   },
   "file_extension": ".py",
   "mimetype": "text/x-python",
   "name": "python",
   "nbconvert_exporter": "python",
   "pygments_lexer": "ipython3",
   "version": "3.7.7"
  }
 },
 "nbformat": 4,
 "nbformat_minor": 4
}
