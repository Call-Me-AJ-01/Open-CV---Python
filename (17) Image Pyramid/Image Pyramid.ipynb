{
 "cells": [
  {
   "cell_type": "code",
   "execution_count": 1,
   "metadata": {},
   "outputs": [],
   "source": [
    "import cv2\n",
    "import matplotlib.pyplot as plt"
   ]
  },
  {
   "cell_type": "markdown",
   "metadata": {},
   "source": [
    "### Reading Image Using cv2"
   ]
  },
  {
   "cell_type": "code",
   "execution_count": 2,
   "metadata": {},
   "outputs": [],
   "source": [
    "img=cv2.imread(\"Original Image.jfif\",1)"
   ]
  },
  {
   "cell_type": "markdown",
   "metadata": {},
   "source": [
    "### Displaying Image Using cv2"
   ]
  },
  {
   "cell_type": "code",
   "execution_count": 3,
   "metadata": {},
   "outputs": [],
   "source": [
    "cv2.imshow('Original Image',img)\n",
    "cv2.waitKey(0)\n",
    "cv2.destroyAllWindows()"
   ]
  },
  {
   "cell_type": "markdown",
   "metadata": {},
   "source": [
    "### Gaussian Pyramid Method"
   ]
  },
  {
   "cell_type": "markdown",
   "metadata": {},
   "source": [
    "    There are 2 Function for Highering And Lowering The Resolution\n",
    "        ->pyrdown (Lowers The Resolution Of The Image)\n",
    "        ->pyrup (Highers The Resolution Of The Image)"
   ]
  },
  {
   "cell_type": "code",
   "execution_count": 4,
   "metadata": {},
   "outputs": [],
   "source": [
    "# Lowering The Resolution Of The Image\n",
    "\n",
    "cv2.imshow('Original Image',img)\n",
    "lower_resolution_1=cv2.pyrDown(img)\n",
    "cv2.imshow('pyrdown image 1',lower_resolution_1)\n",
    "lower_resolution_2=cv2.pyrDown(lower_resolution_1)\n",
    "cv2.imshow('pyrdown image 2',lower_resolution_2)\n",
    "\n",
    "#Highering The Resolution of The Image\n",
    "\n",
    "higher_resolution=cv2.pyrUp(lower_resolution_2)\n",
    "cv2.imshow('Higher Resolution Image 1',higher_resolution)\n",
    "\n",
    "cv2.waitKey(0)\n",
    "cv2.destroyAllWindows()"
   ]
  },
  {
   "cell_type": "code",
   "execution_count": 5,
   "metadata": {},
   "outputs": [],
   "source": [
    "img=cv2.imread('Original Image.jfif')\n",
    "layer=img.copy()\n",
    "gp=[layer]"
   ]
  },
  {
   "cell_type": "code",
   "execution_count": 6,
   "metadata": {},
   "outputs": [],
   "source": [
    "for i in range(6):\n",
    "    layer=cv2.pyrDown(layer)\n",
    "    gp.append(layer.copy())\n",
    "    cv2.imshow('Lower Resolution '+str(i+1),layer)\n",
    "cv2.waitKey(0)\n",
    "cv2.destroyAllWindows()"
   ]
  },
  {
   "cell_type": "markdown",
   "metadata": {},
   "source": [
    "### Laplacian Pyramid\n",
    "        The extended Level Of The Image - The Current Level Of the Image"
   ]
  },
  {
   "cell_type": "code",
   "execution_count": 7,
   "metadata": {},
   "outputs": [],
   "source": [
    "layer=gp[5]\n",
    "cv2.imshow('Uppper Level Gaussian Pyramid',layer)\n",
    "cv2.waitKey(0)\n",
    "cv2.destroyAllWindows()"
   ]
  },
  {
   "cell_type": "code",
   "execution_count": 8,
   "metadata": {},
   "outputs": [],
   "source": [
    "for i in range(5,0,-1):\n",
    "    gaussian_extended=cv2.pyrUp(gp[i])\n",
    "    laplacian=cv2.subtract(gp[i-1],gaussian_extended)\n",
    "    cv2.imshow(\"Laplacian \"+str(i),laplacian)\n",
    "cv2.waitKey(0)\n",
    "cv2.destroyAllWindows()"
   ]
  }
 ],
 "metadata": {
  "kernelspec": {
   "display_name": "Python 3",
   "language": "python",
   "name": "python3"
  },
  "language_info": {
   "codemirror_mode": {
    "name": "ipython",
    "version": 3
   },
   "file_extension": ".py",
   "mimetype": "text/x-python",
   "name": "python",
   "nbconvert_exporter": "python",
   "pygments_lexer": "ipython3",
   "version": "3.7.6"
  }
 },
 "nbformat": 4,
 "nbformat_minor": 4
}
